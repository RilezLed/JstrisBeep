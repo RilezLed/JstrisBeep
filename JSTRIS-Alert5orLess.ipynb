{
 "cells": [
  {
   "cell_type": "markdown",
   "id": "b266d5a6",
   "metadata": {},
   "source": [
    "# Jstris 5 Lines Left Ping"
   ]
  },
  {
   "cell_type": "markdown",
   "id": "f69b3a9b",
   "metadata": {},
   "source": [
    "The following project was designed to help optimize the *flow* state obtained by playing Tetris, specifically on Jstris.com. At 4 lines or less an alert with continously ping so you don't have to focus on the scorbaord. Every second counts! "
   ]
  },
  {
   "cell_type": "code",
   "execution_count": 6,
   "id": "fcb7570e",
   "metadata": {},
   "outputs": [],
   "source": [
    "# import the required libraries\n",
    "import numpy as np\n",
    "import winsound\n",
    "import time\n",
    "import win32api\n",
    "import win32con\n",
    "import win32gui\n",
    "import win32ui\n",
    "from selenium import webdriver\n",
    "from selenium.webdriver.common.by import By"
   ]
  },
  {
   "cell_type": "markdown",
   "id": "a9ca9b35",
   "metadata": {},
   "source": [
    "## Play Jstris in Browser Window"
   ]
  },
  {
   "cell_type": "markdown",
   "id": "6f3b8423",
   "metadata": {},
   "source": [
    "The below code will open up a Chrome window and navigate to a 20 line Pentamino game. To change edit the \"driver.get\" arguement to the gamemode you would like to play."
   ]
  },
  {
   "cell_type": "code",
   "execution_count": null,
   "id": "ca4ab070",
   "metadata": {
    "scrolled": true
   },
   "outputs": [],
   "source": [
    "# Block for just sound\n",
    "match_value = 5\n",
    "\n",
    "try:\n",
    "    \n",
    "    driver = webdriver.Chrome()\n",
    "\n",
    "    driver.get(\"https://jstris.jezevec10.com/?play=1&mode=2&rule=2\")\n",
    "    \n",
    "    #Find the Div\n",
    "    driver.implicitly_wait(1000)\n",
    "    \n",
    "    \n",
    "    while driver.current_url:\n",
    "        # Get the text inside the div element\n",
    "        div = driver.find_element(By.ID,\"lrem\")\n",
    "        div_text = div.text\n",
    "        \n",
    "        if div_text.isnumeric():\n",
    "            div_int = int(div_text)\n",
    "        else:\n",
    "            div_int=0\n",
    "        # Check if the text matches the match_value\n",
    "        if div_int <= match_value & div_int >0:\n",
    "            \n",
    "            # Play a sound\n",
    "            winsound.Beep(400, 200)\n",
    "            \n",
    "            \n",
    "        else:    \n",
    "            # Wait for 0.2 seconds\n",
    "            time.sleep(.2)\n",
    "            div_text=div.text\n",
    "            \n",
    "            # Take a screenshot of the current tab COMMENTED OUT FOR NOW\n",
    "            #driver.save_screenshot(\"screenshot.png\")\n",
    "    \n",
    "finally:\n",
    "    # Close the browser\n",
    "    \n",
    "    driver.quit()\n",
    "\n"
   ]
  },
  {
   "cell_type": "code",
   "execution_count": null,
   "id": "66f8ff42",
   "metadata": {},
   "outputs": [],
   "source": []
  },
  {
   "cell_type": "code",
   "execution_count": null,
   "id": "ede2dfa1",
   "metadata": {},
   "outputs": [],
   "source": []
  },
  {
   "cell_type": "code",
   "execution_count": null,
   "id": "a6b89e83",
   "metadata": {},
   "outputs": [],
   "source": []
  },
  {
   "cell_type": "code",
   "execution_count": null,
   "id": "33e13c5e",
   "metadata": {},
   "outputs": [],
   "source": []
  }
 ],
 "metadata": {
  "kernelspec": {
   "display_name": "Python 3 (ipykernel)",
   "language": "python",
   "name": "python3"
  },
  "language_info": {
   "codemirror_mode": {
    "name": "ipython",
    "version": 3
   },
   "file_extension": ".py",
   "mimetype": "text/x-python",
   "name": "python",
   "nbconvert_exporter": "python",
   "pygments_lexer": "ipython3",
   "version": "3.9.13"
  }
 },
 "nbformat": 4,
 "nbformat_minor": 5
}
